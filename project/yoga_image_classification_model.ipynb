{
  "cells": [
    {
      "cell_type": "markdown",
      "metadata": {},
      "source": [
        "## project : yoga position type classification with image dataset / skku 기계학습 수업\n",
        "info : 요가에 관한 이미지가 주어졌을 때, 각 요가 이미지가 어떤 자세 레이블인지를 예측하는 프로젝트.\n",
        "name : 조병웅  \n",
        "model : 해당 프로젝트에는 사전학습된 VGG 모델을 사용.  "
      ]
    },
    {
      "cell_type": "markdown",
      "metadata": {},
      "source": [
        "## 라이브러리 및 사전 학습 모델 호출"
      ]
    },
    {
      "cell_type": "code",
      "execution_count": 1,
      "metadata": {
        "colab": {
          "base_uri": "https://localhost:8080/"
        },
        "id": "L3wnOOgh3vTS",
        "outputId": "c9b7c7b4-47e6-4f8d-9ed3-cca82ddbe7cf"
      },
      "outputs": [
        {
          "name": "stdout",
          "output_type": "stream",
          "text": [
            "Looking in indexes: https://pypi.org/simple, https://us-python.pkg.dev/colab-wheels/public/simple/\n",
            "Collecting split-folders\n",
            "  Downloading split_folders-0.5.1-py3-none-any.whl (8.4 kB)\n",
            "Installing collected packages: split-folders\n",
            "Successfully installed split-folders-0.5.1\n"
          ]
        }
      ],
      "source": [
        "!pip install split-folders"
      ]
    },
    {
      "cell_type": "code",
      "execution_count": 2,
      "metadata": {
        "id": "MKVtOdna1P2X"
      },
      "outputs": [],
      "source": [
        "from keras import models, layers\n",
        "from keras.applications import VGG16\n",
        "from keras import Input\n",
        "from keras.models import Model\n",
        "from keras.preprocessing.image import ImageDataGenerator\n",
        "from keras import optimizers, initializers, regularizers, metrics\n",
        "from keras.callbacks import ModelCheckpoint\n",
        "import os\n",
        "from glob import glob\n",
        "from PIL import Image\n",
        "import matplotlib.pyplot as plt\n",
        "import numpy as np\n",
        "import math\n",
        "import splitfolders"
      ]
    },
    {
      "cell_type": "code",
      "execution_count": 3,
      "metadata": {
        "colab": {
          "base_uri": "https://localhost:8080/"
        },
        "id": "JHXHRjLh14p6",
        "outputId": "8429e1f8-6a1d-46aa-f00b-ac983698e664"
      },
      "outputs": [
        {
          "name": "stdout",
          "output_type": "stream",
          "text": [
            "Mounted at /content/drive\n"
          ]
        }
      ],
      "source": [
        "from google.colab import drive\n",
        "drive.mount('/content/drive')"
      ]
    },
    {
      "cell_type": "markdown",
      "metadata": {},
      "source": [
        "## 데이터 전처리 및 학습set 나누기"
      ]
    },
    {
      "cell_type": "code",
      "execution_count": 4,
      "metadata": {
        "colab": {
          "base_uri": "https://localhost:8080/"
        },
        "id": "gEz5BrN73PiZ",
        "outputId": "b50933cd-fa7d-4812-be80-962479ebc1b7"
      },
      "outputs": [
        {
          "name": "stderr",
          "output_type": "stream",
          "text": [
            "Copying files: 2498 files [00:39, 63.06 files/s] \n"
          ]
        }
      ],
      "source": [
        "#test셋 validation 셋 나누기\n",
        "splitfolders.ratio(\"/content/drive/MyDrive/Colab Notebooks/train\", output=\"output\", seed=1337, ratio=(.8, .2))"
      ]
    },
    {
      "cell_type": "code",
      "execution_count": 5,
      "metadata": {
        "id": "plQHg9iF1zqO"
      },
      "outputs": [],
      "source": [
        "#데이터 증강 및 제너레이터 형성\n",
        "train_datagen = ImageDataGenerator(rescale=1./255, rotation_range=40,\n",
        "                                      width_shift_range=0.2,\n",
        "                                      height_shift_range=0.2,\n",
        "                                      shear_range=0.2,\n",
        "                                      zoom_range=0.2,\n",
        "                                      horizontal_flip=True,\n",
        "                                      fill_mode='nearest')\n",
        "val_datagen = ImageDataGenerator(rescale=1./255)"
      ]
    },
    {
      "cell_type": "code",
      "execution_count": 6,
      "metadata": {
        "id": "LAjRkaEW1zoI"
      },
      "outputs": [],
      "source": [
        "train_dir = os.path.join('/content/output/train')\n",
        "val_dir = os.path.join('/content/output/val')"
      ]
    },
    {
      "cell_type": "code",
      "execution_count": 7,
      "metadata": {
        "colab": {
          "base_uri": "https://localhost:8080/"
        },
        "id": "8l2LXS_v1zmY",
        "outputId": "8b1aa68e-b4fe-4eb9-a0bc-fed61363ca87"
      },
      "outputs": [
        {
          "name": "stdout",
          "output_type": "stream",
          "text": [
            "Found 1993 images belonging to 7 classes.\n",
            "Found 503 images belonging to 7 classes.\n"
          ]
        }
      ],
      "source": [
        "#제너레이터 형성\n",
        "train_generator = train_datagen.flow_from_directory(train_dir, batch_size=16, target_size=(224, 224), color_mode='rgb')\n",
        "val_generator = val_datagen.flow_from_directory(val_dir, batch_size=16, target_size=(224, 224), color_mode='rgb')\n"
      ]
    },
    {
      "cell_type": "code",
      "execution_count": 8,
      "metadata": {
        "colab": {
          "base_uri": "https://localhost:8080/"
        },
        "id": "b_4KPF1pEYJp",
        "outputId": "0aedd135-a838-4b60-c287-831981ed4fe2"
      },
      "outputs": [
        {
          "data": {
            "text/plain": [
              "array([1, 1, 1, ..., 6, 6, 6], dtype=int32)"
            ]
          },
          "execution_count": 8,
          "metadata": {},
          "output_type": "execute_result"
        }
      ],
      "source": [
        "train_generator.classes"
      ]
    },
    {
      "cell_type": "code",
      "execution_count": 9,
      "metadata": {
        "colab": {
          "base_uri": "https://localhost:8080/"
        },
        "id": "rKwBRjlGEdYR",
        "outputId": "f2270142-8bd8-4e4d-c7cd-d1f596a0bcf5"
      },
      "outputs": [
        {
          "data": {
            "text/plain": [
              "{'.ipynb_checkpoints': 0, '0': 1, '1': 2, '2': 3, '3': 4, '4': 5, '5': 6}"
            ]
          },
          "execution_count": 9,
          "metadata": {},
          "output_type": "execute_result"
        }
      ],
      "source": [
        "train_generator.class_indices"
      ]
    },
    {
      "cell_type": "code",
      "execution_count": 10,
      "metadata": {
        "id": "9bH5hzuC1zkd"
      },
      "outputs": [],
      "source": [
        "input_tensor = Input(shape=(224, 224, 3), dtype='float32', name='input')\n"
      ]
    },
    {
      "cell_type": "markdown",
      "metadata": {},
      "source": [
        "## 모델 불러오기"
      ]
    },
    {
      "cell_type": "code",
      "execution_count": 11,
      "metadata": {
        "colab": {
          "base_uri": "https://localhost:8080/"
        },
        "id": "2jbq9_XV1zi0",
        "outputId": "bf9722e2-6114-4e1a-edd0-6a8081aafea0"
      },
      "outputs": [
        {
          "name": "stdout",
          "output_type": "stream",
          "text": [
            "Downloading data from https://storage.googleapis.com/tensorflow/keras-applications/vgg16/vgg16_weights_tf_dim_ordering_tf_kernels_notop.h5\n",
            "58889256/58889256 [==============================] - 2s 0us/step\n",
            "Model: \"vgg16\"\n",
            "_________________________________________________________________\n",
            " Layer (type)                Output Shape              Param #   \n",
            "=================================================================\n",
            " input_1 (InputLayer)        [(None, 224, 224, 3)]     0         \n",
            "                                                                 \n",
            " block1_conv1 (Conv2D)       (None, 224, 224, 64)      1792      \n",
            "                                                                 \n",
            " block1_conv2 (Conv2D)       (None, 224, 224, 64)      36928     \n",
            "                                                                 \n",
            " block1_pool (MaxPooling2D)  (None, 112, 112, 64)      0         \n",
            "                                                                 \n",
            " block2_conv1 (Conv2D)       (None, 112, 112, 128)     73856     \n",
            "                                                                 \n",
            " block2_conv2 (Conv2D)       (None, 112, 112, 128)     147584    \n",
            "                                                                 \n",
            " block2_pool (MaxPooling2D)  (None, 56, 56, 128)       0         \n",
            "                                                                 \n",
            " block3_conv1 (Conv2D)       (None, 56, 56, 256)       295168    \n",
            "                                                                 \n",
            " block3_conv2 (Conv2D)       (None, 56, 56, 256)       590080    \n",
            "                                                                 \n",
            " block3_conv3 (Conv2D)       (None, 56, 56, 256)       590080    \n",
            "                                                                 \n",
            " block3_pool (MaxPooling2D)  (None, 28, 28, 256)       0         \n",
            "                                                                 \n",
            " block4_conv1 (Conv2D)       (None, 28, 28, 512)       1180160   \n",
            "                                                                 \n",
            " block4_conv2 (Conv2D)       (None, 28, 28, 512)       2359808   \n",
            "                                                                 \n",
            " block4_conv3 (Conv2D)       (None, 28, 28, 512)       2359808   \n",
            "                                                                 \n",
            " block4_pool (MaxPooling2D)  (None, 14, 14, 512)       0         \n",
            "                                                                 \n",
            " block5_conv1 (Conv2D)       (None, 14, 14, 512)       2359808   \n",
            "                                                                 \n",
            " block5_conv2 (Conv2D)       (None, 14, 14, 512)       2359808   \n",
            "                                                                 \n",
            " block5_conv3 (Conv2D)       (None, 14, 14, 512)       2359808   \n",
            "                                                                 \n",
            " block5_pool (MaxPooling2D)  (None, 7, 7, 512)         0         \n",
            "                                                                 \n",
            "=================================================================\n",
            "Total params: 14,714,688\n",
            "Trainable params: 0\n",
            "Non-trainable params: 14,714,688\n",
            "_________________________________________________________________\n"
          ]
        }
      ],
      "source": [
        "#VGG 모듈 불러오기\n",
        "pre_trained_vgg = VGG16(weights='imagenet', include_top=False, input_shape=(224, 224, 3))\n",
        "pre_trained_vgg.trainable = False\n",
        "pre_trained_vgg.summary()"
      ]
    },
    {
      "cell_type": "code",
      "execution_count": 12,
      "metadata": {
        "colab": {
          "base_uri": "https://localhost:8080/"
        },
        "id": "m8vzXxiS1zhA",
        "outputId": "6dfe6ecf-a3a1-4a41-bbf1-3e433d544f4a"
      },
      "outputs": [
        {
          "name": "stdout",
          "output_type": "stream",
          "text": [
            "Model: \"sequential\"\n",
            "_________________________________________________________________\n",
            " Layer (type)                Output Shape              Param #   \n",
            "=================================================================\n",
            " vgg16 (Functional)          (None, 7, 7, 512)         14714688  \n",
            "                                                                 \n",
            " flatten (Flatten)           (None, 25088)             0         \n",
            "                                                                 \n",
            " dense (Dense)               (None, 4096)              102764544 \n",
            "                                                                 \n",
            " dense_1 (Dense)             (None, 2048)              8390656   \n",
            "                                                                 \n",
            " dense_2 (Dense)             (None, 1024)              2098176   \n",
            "                                                                 \n",
            " dense_3 (Dense)             (None, 7)                 7175      \n",
            "                                                                 \n",
            "=================================================================\n",
            "Total params: 127,975,239\n",
            "Trainable params: 113,260,551\n",
            "Non-trainable params: 14,714,688\n",
            "_________________________________________________________________\n"
          ]
        }
      ],
      "source": [
        "#fc레이어 설정\n",
        "additional_model = models.Sequential()\n",
        "additional_model.add(pre_trained_vgg)\n",
        "additional_model.add(layers.Flatten())\n",
        "additional_model.add(layers.Dense(4096, activation='relu'))\n",
        "additional_model.add(layers.Dense(2048, activation='relu'))\n",
        "additional_model.add(layers.Dense(1024, activation='relu'))\n",
        "additional_model.add(layers.Dense(7, activation='softmax'))\n",
        " \n",
        " \n",
        "additional_model.summary()"
      ]
    },
    {
      "cell_type": "code",
      "execution_count": 13,
      "metadata": {
        "id": "GWWnGX6WDJ3Y"
      },
      "outputs": [],
      "source": [
        "#메모리 용량 오류 방지 코드\n",
        "from PIL import ImageFile\n",
        "ImageFile.LOAD_TRUNCATED_IMAGES = True"
      ]
    },
    {
      "cell_type": "code",
      "execution_count": null,
      "metadata": {
        "colab": {
          "base_uri": "https://localhost:8080/"
        },
        "id": "Cisfq3O61zfN",
        "outputId": "3a55ee3f-d181-4190-d3cc-16938179ba6e"
      },
      "outputs": [
        {
          "name": "stderr",
          "output_type": "stream",
          "text": [
            "/usr/local/lib/python3.10/dist-packages/keras/optimizers/legacy/rmsprop.py:143: UserWarning: The `lr` argument is deprecated, use `learning_rate` instead.\n",
            "  super().__init__(name, **kwargs)\n",
            "<ipython-input-14-eef280affae1>:9: UserWarning: `Model.fit_generator` is deprecated and will be removed in a future version. Please use `Model.fit`, which supports generators.\n",
            "  history = additional_model.fit_generator(train_generator,\n"
          ]
        },
        {
          "name": "stdout",
          "output_type": "stream",
          "text": [
            "Epoch 1/70\n",
            "125/125 [==============================] - 106s 767ms/step - loss: 1.8940 - acc: 0.3076 - val_loss: 1.1712 - val_acc: 0.4573\n",
            "Epoch 2/70\n",
            "125/125 [==============================] - 98s 784ms/step - loss: 1.3065 - acc: 0.5003 - val_loss: 1.2630 - val_acc: 0.5328\n",
            "Epoch 3/70\n",
            "125/125 [==============================] - 106s 852ms/step - loss: 1.0935 - acc: 0.5876 - val_loss: 0.8492 - val_acc: 0.6799\n",
            "Epoch 4/70\n",
            "125/125 [==============================] - 94s 753ms/step - loss: 0.9924 - acc: 0.6397 - val_loss: 0.6839 - val_acc: 0.7435\n",
            "Epoch 5/70\n",
            "125/125 [==============================] - 100s 803ms/step - loss: 0.9117 - acc: 0.6578 - val_loss: 0.7042 - val_acc: 0.7575\n",
            "Epoch 6/70\n",
            "125/125 [==============================] - 94s 755ms/step - loss: 0.8585 - acc: 0.6784 - val_loss: 0.7999 - val_acc: 0.7316\n",
            "Epoch 7/70\n",
            "125/125 [==============================] - 93s 749ms/step - loss: 0.8450 - acc: 0.6979 - val_loss: 0.5892 - val_acc: 0.8012\n",
            "Epoch 8/70\n",
            "125/125 [==============================] - 107s 858ms/step - loss: 0.7725 - acc: 0.7275 - val_loss: 0.7872 - val_acc: 0.7396\n",
            "Epoch 9/70\n",
            "125/125 [==============================] - 94s 753ms/step - loss: 0.7545 - acc: 0.7291 - val_loss: 0.6462 - val_acc: 0.7833\n",
            "Epoch 10/70\n",
            "125/125 [==============================] - 102s 817ms/step - loss: 0.7167 - acc: 0.7406 - val_loss: 0.6706 - val_acc: 0.7773\n",
            "Epoch 11/70\n",
            "125/125 [==============================] - 101s 809ms/step - loss: 0.7103 - acc: 0.7481 - val_loss: 0.8201 - val_acc: 0.7634\n",
            "Epoch 12/70\n",
            "125/125 [==============================] - 94s 751ms/step - loss: 0.7094 - acc: 0.7396 - val_loss: 0.5795 - val_acc: 0.8211\n",
            "Epoch 13/70\n",
            "125/125 [==============================] - 98s 781ms/step - loss: 0.7057 - acc: 0.7506 - val_loss: 0.5174 - val_acc: 0.8330\n",
            "Epoch 14/70\n",
            "125/125 [==============================] - 94s 751ms/step - loss: 0.6422 - acc: 0.7762 - val_loss: 0.6468 - val_acc: 0.7853\n",
            "Epoch 15/70\n",
            "125/125 [==============================] - 87s 692ms/step - loss: 0.6595 - acc: 0.7556 - val_loss: 0.8055 - val_acc: 0.7813\n",
            "Epoch 16/70\n",
            "125/125 [==============================] - 92s 735ms/step - loss: 0.6335 - acc: 0.7852 - val_loss: 0.7254 - val_acc: 0.7813\n",
            "Epoch 17/70\n",
            "125/125 [==============================] - 87s 699ms/step - loss: 0.6355 - acc: 0.7757 - val_loss: 0.8168 - val_acc: 0.8052\n",
            "Epoch 18/70\n",
            "125/125 [==============================] - 97s 774ms/step - loss: 0.6245 - acc: 0.7822 - val_loss: 0.6452 - val_acc: 0.8191\n",
            "Epoch 19/70\n",
            "125/125 [==============================] - 95s 759ms/step - loss: 0.5996 - acc: 0.7847 - val_loss: 0.5943 - val_acc: 0.8250\n",
            "Epoch 20/70\n",
            "125/125 [==============================] - 88s 705ms/step - loss: 0.6573 - acc: 0.7772 - val_loss: 0.5871 - val_acc: 0.8410\n",
            "Epoch 21/70\n",
            "125/125 [==============================] - 95s 761ms/step - loss: 0.5675 - acc: 0.8048 - val_loss: 0.7673 - val_acc: 0.8151\n",
            "Epoch 22/70\n",
            "125/125 [==============================] - 98s 784ms/step - loss: 0.5662 - acc: 0.7933 - val_loss: 0.6603 - val_acc: 0.8270\n",
            "Epoch 23/70\n",
            "125/125 [==============================] - 88s 702ms/step - loss: 0.5735 - acc: 0.7998 - val_loss: 0.5387 - val_acc: 0.8549\n",
            "Epoch 24/70\n",
            "125/125 [==============================] - 103s 825ms/step - loss: 0.5401 - acc: 0.8149 - val_loss: 0.7396 - val_acc: 0.8270\n",
            "Epoch 25/70\n",
            "125/125 [==============================] - 89s 709ms/step - loss: 0.5587 - acc: 0.8149 - val_loss: 0.7226 - val_acc: 0.8091\n",
            "Epoch 26/70\n",
            "125/125 [==============================] - 94s 749ms/step - loss: 0.5241 - acc: 0.8164 - val_loss: 0.6993 - val_acc: 0.8111\n",
            "Epoch 27/70\n",
            "125/125 [==============================] - 88s 703ms/step - loss: 0.5537 - acc: 0.8083 - val_loss: 0.8641 - val_acc: 0.7853\n",
            "Epoch 28/70\n",
            "125/125 [==============================] - 88s 703ms/step - loss: 0.5413 - acc: 0.8224 - val_loss: 0.6016 - val_acc: 0.8608\n",
            "Epoch 29/70\n",
            "125/125 [==============================] - 93s 745ms/step - loss: 0.4832 - acc: 0.8239 - val_loss: 0.7884 - val_acc: 0.8091\n",
            "Epoch 30/70\n",
            "125/125 [==============================] - 88s 699ms/step - loss: 0.5438 - acc: 0.8194 - val_loss: 0.6108 - val_acc: 0.8370\n",
            "Epoch 31/70\n",
            "125/125 [==============================] - 88s 702ms/step - loss: 0.4978 - acc: 0.8294 - val_loss: 1.0107 - val_acc: 0.7336\n",
            "Epoch 32/70\n",
            "125/125 [==============================] - 88s 702ms/step - loss: 0.4993 - acc: 0.8284 - val_loss: 0.8347 - val_acc: 0.7913\n",
            "Epoch 33/70\n",
            "125/125 [==============================] - 96s 763ms/step - loss: 0.5030 - acc: 0.8269 - val_loss: 0.8280 - val_acc: 0.8330\n",
            "Epoch 34/70\n",
            "125/125 [==============================] - 87s 700ms/step - loss: 0.4894 - acc: 0.8339 - val_loss: 1.1025 - val_acc: 0.8131\n",
            "Epoch 35/70\n",
            "125/125 [==============================] - 101s 813ms/step - loss: 0.4816 - acc: 0.8409 - val_loss: 0.6901 - val_acc: 0.8330\n",
            "Epoch 36/70\n",
            "125/125 [==============================] - ETA: 0s - loss: 0.4374 - acc: 0.8490"
          ]
        }
      ],
      "source": [
        "#모델 훈련\n",
        "checkpoint = ModelCheckpoint(filepath='pretrained_VGG_weight.hdf5', \n",
        "            monitor='loss', \n",
        "            mode='min', \n",
        "            save_best_only=True)\n",
        "#lr2e-5 : 0.88 / 90 / 0.0001 / 0.0001 : 0.86 91 / +70 : 92\n",
        "additional_model.compile(loss='categorical_crossentropy', optimizer=optimizers.RMSprop(lr=0.0001), metrics=['acc'])\n",
        " \n",
        " \n",
        "history = additional_model.fit_generator(train_generator, \n",
        "            steps_per_epoch=math.ceil(train_generator.n / train_generator.batch_size), \n",
        "            epochs=70, \n",
        "            validation_data=val_generator, \n",
        "            validation_steps=math.ceil(val_generator.n / val_generator.batch_size), \n",
        "            callbacks=[checkpoint])\n"
      ]
    },
    {
      "cell_type": "markdown",
      "metadata": {},
      "source": [
        "## 결과"
      ]
    },
    {
      "cell_type": "code",
      "execution_count": null,
      "metadata": {
        "id": "_kDGxKA853wj"
      },
      "outputs": [],
      "source": [
        "#결과 visualization\n",
        "acc = history.history['acc']\n",
        "val_acc = history.history['val_acc']\n",
        "loss = history.history['loss']\n",
        "val_loss = history.history['val_loss']\n",
        " \n",
        "epochs = range(1, len(acc) + 1)\n",
        " \n",
        "plt.plot(epochs, acc, 'b', label='Training acc')\n",
        "plt.plot(epochs, val_acc, 'r', label='Validation acc')\n",
        "plt.title('Accuracy')\n",
        "plt.legend()\n",
        "plt.figure()\n",
        " \n",
        "plt.plot(epochs, loss, 'b', label='Training loss')\n",
        "plt.plot(epochs, val_loss, 'r', label='Validation loss')\n",
        "plt.title('Loss')\n",
        "plt.legend()\n",
        " \n",
        "plt.show()\n"
      ]
    },
    {
      "cell_type": "code",
      "execution_count": null,
      "metadata": {
        "id": "ylp5lZI3v0YK"
      },
      "outputs": [],
      "source": [
        "#test_data 불러오기 및 sub파일 생성\n",
        "import cv2\n",
        "from keras.utils import load_img, img_to_array\n",
        "sub_list = []\n",
        "sub_name_list = []\n",
        "for i in range(389):\n",
        "  path = '/content/drive/MyDrive/Colab Notebooks/test/'+str(i)+'.jpg'\n",
        "  img = load_img(path, target_size=(224, 224))\n",
        "  test_data = img_to_array(img)\n",
        "  test_data_name = str(i)+'.jpg'\n",
        "  test_data = test_data / 255\n",
        "  test_data = np.expand_dims(test_data, axis = 0)\n",
        "  pred_probability = additional_model.predict(test_data)\n",
        "  pred = np.argmax(pred_probability)\n",
        "  for i in range(1,7):\n",
        "    if pred == i:\n",
        "      pred = (i-1)\n",
        "  sub_list.append(pred)\n",
        "  sub_name_list.append(test_data_name)\n",
        "\n",
        "\n"
      ]
    },
    {
      "cell_type": "code",
      "execution_count": null,
      "metadata": {
        "id": "8PTj_flFHp_X"
      },
      "outputs": [],
      "source": [
        "sub_name_list"
      ]
    },
    {
      "cell_type": "code",
      "execution_count": null,
      "metadata": {
        "id": "sFKGJgiKxIcO"
      },
      "outputs": [],
      "source": [
        "#make_sub\n",
        "\"\"\"\n",
        "def make_sub(self, x):\n",
        "  z = self.predict(x)\n",
        "  z = z.astype(np.int64)\n",
        "  sub_df = pd.DataFrame({'label' : z})\n",
        "  sub_df.index = range(0,z.shape[0])\n",
        "  sub_df.to_csv('submission_example.csv', index_label=['id'])\n",
        "\"\"\"\n",
        "import pandas as pd\n",
        "\n",
        "sub_list = np.array(sub_list)\n",
        "sub_list = sub_list.astype(np.int64)\n",
        "sub_df = pd.DataFrame({'Id' : sub_name_list, 'Category' : sub_list})\n",
        "sub_df.to_csv('submission-example.csv', index = False)"
      ]
    },
    {
      "cell_type": "markdown",
      "metadata": {},
      "source": [
        "## 캐글로 전송"
      ]
    },
    {
      "cell_type": "code",
      "execution_count": null,
      "metadata": {
        "id": "2JX8NKCBJXIe"
      },
      "outputs": [],
      "source": [
        "!pip install kaggle\n",
        "from google.colab import files\n",
        "files.upload()\n",
        "!mkdir -p ~/.kaggle\n",
        "!cp kaggle.json ~/.kaggle/\n",
        "!chmod 600 ~/.kaggle/kaggle.json"
      ]
    },
    {
      "cell_type": "code",
      "execution_count": null,
      "metadata": {
        "id": "5wnsA-eAJ3pS"
      },
      "outputs": [],
      "source": [
        "!kaggle competitions submit -c skku-2023-1-machine-learning-third-project -f submission-example.csv -m \"Message\""
      ]
    }
  ],
  "metadata": {
    "accelerator": "GPU",
    "colab": {
      "gpuType": "T4",
      "provenance": []
    },
    "kernelspec": {
      "display_name": "Python 3",
      "name": "python3"
    },
    "language_info": {
      "name": "python"
    }
  },
  "nbformat": 4,
  "nbformat_minor": 0
}
